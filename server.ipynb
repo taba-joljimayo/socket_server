{
  "cells": [
    {
      "cell_type": "code",
      "execution_count": null,
      "metadata": {
        "colab": {
          "base_uri": "https://localhost:8080/"
        },
        "id": "l-pTXgKZugtm",
        "outputId": "36ed6da4-fd4e-4cbf-a375-72f76bf73281"
      },
      "outputs": [
        {
          "output_type": "stream",
          "name": "stdout",
          "text": [
            "Requirement already satisfied: dlib in /usr/local/lib/python3.10/dist-packages (19.24.2)\n",
            "Requirement already satisfied: flask in /usr/local/lib/python3.10/dist-packages (3.0.3)\n",
            "Requirement already satisfied: flask-socketio in /usr/local/lib/python3.10/dist-packages (5.4.1)\n",
            "Requirement already satisfied: opencv-python-headless in /usr/local/lib/python3.10/dist-packages (4.10.0.84)\n",
            "Requirement already satisfied: Werkzeug>=3.0.0 in /usr/local/lib/python3.10/dist-packages (from flask) (3.1.3)\n",
            "Requirement already satisfied: Jinja2>=3.1.2 in /usr/local/lib/python3.10/dist-packages (from flask) (3.1.4)\n",
            "Requirement already satisfied: itsdangerous>=2.1.2 in /usr/local/lib/python3.10/dist-packages (from flask) (2.2.0)\n",
            "Requirement already satisfied: click>=8.1.3 in /usr/local/lib/python3.10/dist-packages (from flask) (8.1.7)\n",
            "Requirement already satisfied: blinker>=1.6.2 in /usr/local/lib/python3.10/dist-packages (from flask) (1.9.0)\n",
            "Requirement already satisfied: python-socketio>=5.0.2 in /usr/local/lib/python3.10/dist-packages (from flask-socketio) (5.11.4)\n",
            "Requirement already satisfied: numpy>=1.21.2 in /usr/local/lib/python3.10/dist-packages (from opencv-python-headless) (1.26.4)\n",
            "Requirement already satisfied: MarkupSafe>=2.0 in /usr/local/lib/python3.10/dist-packages (from Jinja2>=3.1.2->flask) (3.0.2)\n",
            "Requirement already satisfied: bidict>=0.21.0 in /usr/local/lib/python3.10/dist-packages (from python-socketio>=5.0.2->flask-socketio) (0.23.1)\n",
            "Requirement already satisfied: python-engineio>=4.8.0 in /usr/local/lib/python3.10/dist-packages (from python-socketio>=5.0.2->flask-socketio) (4.10.1)\n",
            "Requirement already satisfied: simple-websocket>=0.10.0 in /usr/local/lib/python3.10/dist-packages (from python-engineio>=4.8.0->python-socketio>=5.0.2->flask-socketio) (1.1.0)\n",
            "Requirement already satisfied: wsproto in /usr/local/lib/python3.10/dist-packages (from simple-websocket>=0.10.0->python-engineio>=4.8.0->python-socketio>=5.0.2->flask-socketio) (1.2.0)\n",
            "Requirement already satisfied: h11<1,>=0.9.0 in /usr/local/lib/python3.10/dist-packages (from wsproto->simple-websocket>=0.10.0->python-engineio>=4.8.0->python-socketio>=5.0.2->flask-socketio) (0.14.0)\n",
            "Requirement already satisfied: keras in /usr/local/lib/python3.10/dist-packages (3.5.0)\n",
            "Requirement already satisfied: pyngrok in /usr/local/lib/python3.10/dist-packages (7.2.1)\n",
            "Requirement already satisfied: flask_cors in /usr/local/lib/python3.10/dist-packages (5.0.0)\n",
            "Requirement already satisfied: absl-py in /usr/local/lib/python3.10/dist-packages (from keras) (1.4.0)\n",
            "Requirement already satisfied: numpy in /usr/local/lib/python3.10/dist-packages (from keras) (1.26.4)\n",
            "Requirement already satisfied: rich in /usr/local/lib/python3.10/dist-packages (from keras) (13.9.4)\n",
            "Requirement already satisfied: namex in /usr/local/lib/python3.10/dist-packages (from keras) (0.0.8)\n",
            "Requirement already satisfied: h5py in /usr/local/lib/python3.10/dist-packages (from keras) (3.12.1)\n",
            "Requirement already satisfied: optree in /usr/local/lib/python3.10/dist-packages (from keras) (0.13.1)\n",
            "Requirement already satisfied: ml-dtypes in /usr/local/lib/python3.10/dist-packages (from keras) (0.4.1)\n",
            "Requirement already satisfied: packaging in /usr/local/lib/python3.10/dist-packages (from keras) (24.2)\n",
            "Requirement already satisfied: PyYAML>=5.1 in /usr/local/lib/python3.10/dist-packages (from pyngrok) (6.0.2)\n",
            "Requirement already satisfied: Flask>=0.9 in /usr/local/lib/python3.10/dist-packages (from flask_cors) (3.0.3)\n",
            "Requirement already satisfied: Werkzeug>=3.0.0 in /usr/local/lib/python3.10/dist-packages (from Flask>=0.9->flask_cors) (3.1.3)\n",
            "Requirement already satisfied: Jinja2>=3.1.2 in /usr/local/lib/python3.10/dist-packages (from Flask>=0.9->flask_cors) (3.1.4)\n",
            "Requirement already satisfied: itsdangerous>=2.1.2 in /usr/local/lib/python3.10/dist-packages (from Flask>=0.9->flask_cors) (2.2.0)\n",
            "Requirement already satisfied: click>=8.1.3 in /usr/local/lib/python3.10/dist-packages (from Flask>=0.9->flask_cors) (8.1.7)\n",
            "Requirement already satisfied: blinker>=1.6.2 in /usr/local/lib/python3.10/dist-packages (from Flask>=0.9->flask_cors) (1.9.0)\n",
            "Requirement already satisfied: typing-extensions>=4.5.0 in /usr/local/lib/python3.10/dist-packages (from optree->keras) (4.12.2)\n",
            "Requirement already satisfied: markdown-it-py>=2.2.0 in /usr/local/lib/python3.10/dist-packages (from rich->keras) (3.0.0)\n",
            "Requirement already satisfied: pygments<3.0.0,>=2.13.0 in /usr/local/lib/python3.10/dist-packages (from rich->keras) (2.18.0)\n",
            "Requirement already satisfied: MarkupSafe>=2.0 in /usr/local/lib/python3.10/dist-packages (from Jinja2>=3.1.2->Flask>=0.9->flask_cors) (3.0.2)\n",
            "Requirement already satisfied: mdurl~=0.1 in /usr/local/lib/python3.10/dist-packages (from markdown-it-py>=2.2.0->rich->keras) (0.1.2)\n",
            "Authtoken saved to configuration file: /root/.config/ngrok/ngrok.yml\n"
          ]
        }
      ],
      "source": [
        "!pip install dlib flask flask-socketio opencv-python-headless\n",
        "!pip install keras pyngrok flask_cors\n",
        "!ngrok config add-authtoken 2pf1VvXV5GbxCciKAzCoXU7mA2i_3WGoRPAUL7sDgcYbGZV1M"
      ]
    },
    {
      "cell_type": "code",
      "execution_count": null,
      "metadata": {
        "colab": {
          "base_uri": "https://localhost:8080/"
        },
        "id": "3L5V_sttaI7k",
        "outputId": "8bd99a2e-41bc-474b-b8fb-0333488950ef"
      },
      "outputs": [
        {
          "output_type": "stream",
          "name": "stdout",
          "text": [
            "Drive already mounted at /content/drive; to attempt to forcibly remount, call drive.mount(\"/content/drive\", force_remount=True).\n"
          ]
        }
      ],
      "source": [
        "from google.colab import drive\n",
        "drive.mount('/content/drive')"
      ]
    },
    {
      "cell_type": "markdown",
      "metadata": {
        "id": "7aCeUg9C6vm6"
      },
      "source": [
        "모델 설정"
      ]
    },
    {
      "cell_type": "code",
      "execution_count": null,
      "metadata": {
        "colab": {
          "base_uri": "https://localhost:8080/"
        },
        "id": "aLn5Q0CT5V9O",
        "outputId": "479472d2-2a15-4d12-bcac-956d226a2144"
      },
      "outputs": [
        {
          "output_type": "stream",
          "name": "stdout",
          "text": [
            "Model: \"model_1\"\n",
            "_________________________________________________________________\n",
            "Layer (type)                 Output Shape              Param #   \n",
            "=================================================================\n",
            "input_1 (InputLayer)         [(None, 26, 34, 1)]       0         \n",
            "_________________________________________________________________\n",
            "conv2d_1 (Conv2D)            (None, 26, 34, 32)        320       \n",
            "_________________________________________________________________\n",
            "max_pooling2d_1 (MaxPooling2 (None, 13, 17, 32)        0         \n",
            "_________________________________________________________________\n",
            "conv2d_2 (Conv2D)            (None, 13, 17, 64)        18496     \n",
            "_________________________________________________________________\n",
            "max_pooling2d_2 (MaxPooling2 (None, 6, 8, 64)          0         \n",
            "_________________________________________________________________\n",
            "conv2d_3 (Conv2D)            (None, 6, 8, 128)         73856     \n",
            "_________________________________________________________________\n",
            "max_pooling2d_3 (MaxPooling2 (None, 3, 4, 128)         0         \n",
            "_________________________________________________________________\n",
            "flatten_1 (Flatten)          (None, 1536)              0         \n",
            "_________________________________________________________________\n",
            "dense_1 (Dense)              (None, 512)               786944    \n",
            "_________________________________________________________________\n",
            "activation_1 (Activation)    (None, 512)               0         \n",
            "_________________________________________________________________\n",
            "dense_2 (Dense)              (None, 1)                 513       \n",
            "_________________________________________________________________\n",
            "activation_2 (Activation)    (None, 1)                 0         \n",
            "=================================================================\n",
            "Total params: 880,129\n",
            "Trainable params: 880,129\n",
            "Non-trainable params: 0\n",
            "_________________________________________________________________\n"
          ]
        }
      ],
      "source": [
        "import cv2\n",
        "import dlib\n",
        "import numpy as np\n",
        "import base64\n",
        "from flask import Flask, request, jsonify\n",
        "from flask_socketio import SocketIO\n",
        "from flask_cors import CORS\n",
        "from tensorflow.python.keras.models import load_model\n",
        "from imutils import face_utils\n",
        "from pyngrok import ngrok\n",
        "import os\n",
        "\n",
        "IMG_SIZE = (34,26)\n",
        "\n",
        "detector = dlib.get_frontal_face_detector()\n",
        "predictor = dlib.shape_predictor(\"/content/drive/MyDrive/shape_predictor_68_face_landmarks.dat\")\n",
        "\n",
        "model = load_model(\"/content/drive/MyDrive/2018_12_17_22_58_35.h5\")\n",
        "model.summary()\n",
        "\n",
        "def crop_eye(img, eye_points):\n",
        "  x1, y1 = np.amin(eye_points, axis=0)\n",
        "  x2, y2 = np.amax(eye_points, axis=0)\n",
        "  cx, cy = (x1 + x2) / 2, (y1 + y2) / 2\n",
        "\n",
        "  w = (x2 - x1) * 1.2\n",
        "  h = w * IMG_SIZE[1] / IMG_SIZE[0]\n",
        "\n",
        "  margin_x, margin_y = w / 2, h / 2\n",
        "\n",
        "  min_x, min_y = int(cx - margin_x), int(cy - margin_y)\n",
        "  max_x, max_y = int(cx + margin_x), int(cy + margin_y)\n",
        "\n",
        "  eye_rect = np.rint([min_x, min_y, max_x, max_y]).astype(np.int)\n",
        "  eye_img = img[eye_rect[1]:eye_rect[3], eye_rect[0]:eye_rect[2]]\n",
        "\n",
        "  return eye_img, eye_rect\n",
        "\n"
      ]
    },
    {
      "cell_type": "code",
      "source": [
        "#얼굴 회전 코드\n",
        "def align_face(img, shapes):\n",
        "    \"\"\"\n",
        "    얼굴 정렬(기울기 보정)을 수행합니다.\n",
        "    \"\"\"\n",
        "    left_eye_center = np.mean(shapes[36:42], axis=0)\n",
        "    right_eye_center = np.mean(shapes[42:48], axis=0)\n",
        "\n",
        "    # 두 눈 사이의 기울기를 계산\n",
        "    dY = right_eye_center[1] - left_eye_center[1]\n",
        "    dX = right_eye_center[0] - left_eye_center[0]\n",
        "    angle = np.degrees(np.arctan2(dY, dX))\n",
        "\n",
        "    # 중심점과 각도를 기반으로 이미지를 회전\n",
        "    eyes_center = ((left_eye_center[0] + right_eye_center[0]) // 2,\n",
        "                   (left_eye_center[1] + right_eye_center[1]) // 2)\n",
        "    M = cv2.getRotationMatrix2D(eyes_center, angle, 1)\n",
        "    aligned_img = cv2.warpAffine(img, M, (img.shape[1], img.shape[0]))\n",
        "    return aligned_img"
      ],
      "metadata": {
        "id": "ooko1GN2rD-f"
      },
      "execution_count": null,
      "outputs": []
    },
    {
      "cell_type": "markdown",
      "metadata": {
        "id": "Oovoh_ME7I_d"
      },
      "source": [
        "Flask API 설정"
      ]
    },
    {
      "cell_type": "code",
      "execution_count": null,
      "metadata": {
        "id": "w7rGyVu67G6a",
        "colab": {
          "base_uri": "https://localhost:8080/"
        },
        "outputId": "f962720c-1aed-4013-917b-549dee7816df"
      },
      "outputs": [
        {
          "metadata": {
            "tags": null
          },
          "name": "stderr",
          "output_type": "stream",
          "text": [
            "WARNING:werkzeug:Werkzeug appears to be used in a production deployment. Consider switching to a production web server instead.\n"
          ]
        },
        {
          "metadata": {
            "tags": null
          },
          "name": "stdout",
          "output_type": "stream",
          "text": [
            "ngrok Public URL: NgrokTunnel: \"https://3d77-34-45-15-204.ngrok-free.app\" -> \"http://localhost:5000\"\n",
            " * Serving Flask app '__main__'\n",
            " * Debug mode: on\n"
          ]
        },
        {
          "metadata": {
            "tags": null
          },
          "name": "stderr",
          "output_type": "stream",
          "text": [
            "INFO:werkzeug:\u001b[31m\u001b[1mWARNING: This is a development server. Do not use it in a production deployment. Use a production WSGI server instead.\u001b[0m\n",
            " * Running on all addresses (0.0.0.0)\n",
            " * Running on http://127.0.0.1:5000\n",
            " * Running on http://172.28.0.12:5000\n",
            "INFO:werkzeug:\u001b[33mPress CTRL+C to quit\u001b[0m\n",
            "INFO:werkzeug: * Restarting with stat\n",
            "WARNING:pyngrok.process.ngrok:t=2024-12-06T07:16:18+0000 lvl=warn msg=\"Stopping forwarder\" name=http-5000-ce86d228-41ff-4c5e-ab1a-c804b7919e8c acceptErr=\"failed to accept connection: Listener closed\"\n",
            "WARNING:pyngrok.process.ngrok:t=2024-12-06T07:16:18+0000 lvl=warn msg=\"Error restarting forwarder\" name=http-5000-ce86d228-41ff-4c5e-ab1a-c804b7919e8c err=\"failed to start tunnel: session closed\"\n"
          ]
        }
      ],
      "source": [
        "# Flask 및 SocketIO 설정\n",
        "app = Flask(__name__)\n",
        "socketio = SocketIO(app, cors_allowed_origins=\"*\")\n",
        "CORS(app)\n",
        "app.config['MAX_CONTENT_LENGTH'] = 16 * 1024 * 1024\n",
        "\n",
        "# Socket.IO 이벤트 처리\n",
        "@socketio.on('process_image')\n",
        "def process_image_socketio(data):\n",
        "    try:\n",
        "        img = np.frombuffer(data, np.uint8)\n",
        "        img = cv2.imdecode(img, cv2.IMREAD_COLOR)\n",
        "\n",
        "        result = process_image_logic(img)\n",
        "        socketio.emit('result', result)\n",
        "    except Exception as e:\n",
        "        socketio.emit('result', {'status': 'error', 'message': str(e)})\n",
        "\n",
        "# REST API 엔드포인트 추가\n",
        "@app.route('/test_process_image', methods=['POST'])\n",
        "def process_image_rest():\n",
        "    try:\n",
        "      if 'image' not in request.files:\n",
        "        raise ValueError(\"이미지 파일이 요청에 포함되어 있지 않습니다.\")\n",
        "\n",
        "      file = request.files['image']\n",
        "      img = np.frombuffer(file.read(), np.uint8)\n",
        "      img = cv2.imdecode(img, cv2.IMREAD_COLOR)\n",
        "\n",
        "      result = process_image_logic(img)\n",
        "      return jsonify(result)\n",
        "    except Exception as e:\n",
        "        return jsonify({'status': 'error', 'message': str(e)}), 500\n",
        "\n",
        "# 공통 이미지 처리 로직\n",
        "def process_image_logic(data):\n",
        "    if img is None:\n",
        "      raise ValueError(\"이미지 디코딩 실패\")\n",
        "\n",
        "    # 이미지 처리\n",
        "    gray = cv2.cvtColor(img, cv2.COLOR_BGR2GRAY)\n",
        "    faces = detector(gray)\n",
        "\n",
        "    eye_closed = 0  # 기본값: 두 눈 뜸\n",
        "    if len(faces) == 0:\n",
        "      raise ValueError(\"얼굴을 감지하지 못함\")\n",
        "\n",
        "\n",
        "    face = faces[0]\n",
        "    shapes = predictor(gray, face)\n",
        "    shapes = face_utils.shape_to_np(shapes)\n",
        "\n",
        "\n",
        "    # 얼굴 정렬\n",
        "    aligned_img = align_face(img, shapes)\n",
        "    aligned_gray = cv2.cvtColor(aligned_img, cv2.COLOR_BGR2GRAY)\n",
        "\n",
        "    # 정렬된 얼굴에서 랜드마크 다시 감지\n",
        "    aligned_shapes = predictor(aligned_gray, face)\n",
        "    aligned_shapes = face_utils.shape_to_np(aligned_shapes)\n",
        "\n",
        "    # 왼쪽과 오른쪽 눈 추출\n",
        "    eye_img_l, eye_rect_l = crop_eye(aligned_gray, eye_points=aligned_shapes[36:42])\n",
        "    eye_img_r, eye_rect_r = crop_eye(aligned_gray, eye_points=aligned_shapes[42:48])\n",
        "\n",
        "    eye_img_l = cv2.resize(eye_img_l, dsize=IMG_SIZE)\n",
        "    eye_img_r = cv2.resize(eye_img_r, dsize=IMG_SIZE)\n",
        "    eye_img_r = cv2.flip(eye_img_r, flipCode=1)\n",
        "\n",
        "    # cv2.imshow('Left Eye', eye_img_l)\n",
        "    # cv2.imshow('Right Eye', eye_img_r)\n",
        "\n",
        "    # 눈 상태 예측\n",
        "    eye_input_l = eye_img_l.copy().reshape((1, IMG_SIZE[1], IMG_SIZE[0], 1)).astype(np.float32) / 255.\n",
        "    eye_input_r = eye_img_r.copy().reshape((1, IMG_SIZE[1], IMG_SIZE[0], 1)).astype(np.float32) / 255.\n",
        "\n",
        "    pred_l = model.predict(eye_input_l)\n",
        "    pred_r = model.predict(eye_input_r)\n",
        "\n",
        "    # 상태 표시\n",
        "    state_l = 'O %.1f' if pred_l > 0.1 else '- %.1f'\n",
        "    state_r = 'O %.1f' if pred_r > 0.1 else '- %.1f'\n",
        "\n",
        "    state_l = state_l % pred_l\n",
        "    state_r = state_r % pred_r\n",
        "\n",
        "    # 결과 시각화\n",
        "    # cv2.rectangle(aligned_img, pt1=tuple(eye_rect_l[0:2]), pt2=tuple(eye_rect_l[2:4]), color=(255, 255, 255), thickness=2)\n",
        "    # cv2.rectangle(aligned_img, pt1=tuple(eye_rect_r[0:2]), pt2=tuple(eye_rect_r[2:4]), color=(255, 255, 255), thickness=2)\n",
        "\n",
        "    # cv2.putText(aligned_img, state_l, tuple(eye_rect_l[0:2]), cv2.FONT_HERSHEY_SIMPLEX, 0.7, (255, 255, 255), 2)\n",
        "    # cv2.putText(aligned_img, state_r, tuple(eye_rect_r[0:2]), cv2.FONT_HERSHEY_SIMPLEX, 0.7, (255, 255, 255), 2)\n",
        "\n",
        "    threshold = 0.1\n",
        "    if pred_l <= threshold and pred_r <= threshold:\n",
        "        eye_closed = 1  # 두 눈 감음\n",
        "\n",
        "    return {'status': 'success', 'result': eye_closed}\n",
        "\n",
        "if __name__ == '__main__':\n",
        "  public_url = ngrok.connect(5000)\n",
        "  print(f\"ngrok Public URL: {public_url}\")\n",
        "\n",
        "  app.config['DEBUG'] = True\n",
        "\n",
        "  socketio.run(app, host='0.0.0.0', port=5000, allow_unsafe_werkzeug=True)"
      ]
    }
  ],
  "metadata": {
    "accelerator": "GPU",
    "colab": {
      "gpuType": "A100",
      "provenance": [],
      "machine_shape": "hm"
    },
    "kernelspec": {
      "display_name": "bdf",
      "language": "python",
      "name": "bdf"
    },
    "language_info": {
      "codemirror_mode": {
        "name": "ipython",
        "version": 3
      },
      "file_extension": ".py",
      "mimetype": "text/x-python",
      "name": "python",
      "nbconvert_exporter": "python",
      "pygments_lexer": "ipython3",
      "version": "3.6.7"
    }
  },
  "nbformat": 4,
  "nbformat_minor": 0
}